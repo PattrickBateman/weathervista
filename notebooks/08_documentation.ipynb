{
 "cells": [
  {
   "cell_type": "raw",
   "metadata": {},
   "source": [
    "---\n",
    "title: \"WeatherVista Project - Session 8: Documentating project with mkdocs and doctest\"\n",
    "execute: \n",
    "  enabled: false\n",
    "---"
   ]
  },
  {
   "cell_type": "markdown",
   "metadata": {},
   "source": [
    "### Step-by-Step Guide:\n",
    "\n",
    "1. **Install MkDocs and mkdocstrings:**"
   ]
  },
  {
   "cell_type": "code",
   "execution_count": 1,
   "metadata": {},
   "outputs": [
    {
     "name": "stdout",
     "output_type": "stream",
     "text": [
      "Collecting mkdocs\n",
      "  Downloading mkdocs-1.6.0-py3-none-any.whl.metadata (6.0 kB)\n",
      "Collecting mkdocstrings\n",
      "  Downloading mkdocstrings-0.25.1-py3-none-any.whl.metadata (7.6 kB)\n",
      "Collecting mkdocstrings-python\n",
      "  Downloading mkdocstrings_python-1.10.3-py3-none-any.whl.metadata (5.5 kB)\n",
      "Requirement already satisfied: click>=7.0 in c:\\users\\16096\\anaconda\\lib\\site-packages (from mkdocs) (8.1.7)\n",
      "Requirement already satisfied: colorama>=0.4 in c:\\users\\16096\\anaconda\\lib\\site-packages (from mkdocs) (0.4.6)\n",
      "Collecting ghp-import>=1.0 (from mkdocs)\n",
      "  Downloading ghp_import-2.1.0-py3-none-any.whl.metadata (7.2 kB)\n",
      "Requirement already satisfied: jinja2>=2.11.1 in c:\\users\\16096\\anaconda\\lib\\site-packages (from mkdocs) (3.1.3)\n",
      "Requirement already satisfied: markdown>=3.3.6 in c:\\users\\16096\\anaconda\\lib\\site-packages (from mkdocs) (3.4.1)\n",
      "Requirement already satisfied: markupsafe>=2.0.1 in c:\\users\\16096\\anaconda\\lib\\site-packages (from mkdocs) (2.1.3)\n",
      "Collecting mergedeep>=1.3.4 (from mkdocs)\n",
      "  Downloading mergedeep-1.3.4-py3-none-any.whl.metadata (4.3 kB)\n",
      "Collecting mkdocs-get-deps>=0.2.0 (from mkdocs)\n",
      "  Downloading mkdocs_get_deps-0.2.0-py3-none-any.whl.metadata (4.0 kB)\n",
      "Requirement already satisfied: packaging>=20.5 in c:\\users\\16096\\anaconda\\lib\\site-packages (from mkdocs) (23.1)\n",
      "Collecting pathspec>=0.11.1 (from mkdocs)\n",
      "  Downloading pathspec-0.12.1-py3-none-any.whl.metadata (21 kB)\n",
      "Collecting pyyaml-env-tag>=0.1 (from mkdocs)\n",
      "  Downloading pyyaml_env_tag-0.1-py3-none-any.whl.metadata (4.1 kB)\n",
      "Requirement already satisfied: pyyaml>=5.1 in c:\\users\\16096\\anaconda\\lib\\site-packages (from mkdocs) (6.0.1)\n",
      "Requirement already satisfied: watchdog>=2.0 in c:\\users\\16096\\anaconda\\lib\\site-packages (from mkdocs) (2.1.6)\n",
      "Collecting mkdocs-autorefs>=0.3.1 (from mkdocstrings)\n",
      "  Downloading mkdocs_autorefs-1.0.1-py3-none-any.whl.metadata (6.9 kB)\n",
      "Requirement already satisfied: platformdirs>=2.2.0 in c:\\users\\16096\\anaconda\\lib\\site-packages (from mkdocstrings) (3.10.0)\n",
      "Collecting pymdown-extensions>=6.3 (from mkdocstrings)\n",
      "  Downloading pymdown_extensions-10.8.1-py3-none-any.whl.metadata (3.0 kB)\n",
      "Collecting griffe>=0.44 (from mkdocstrings-python)\n",
      "  Downloading griffe-0.45.3-py3-none-any.whl.metadata (6.3 kB)\n",
      "Requirement already satisfied: python-dateutil>=2.8.1 in c:\\users\\16096\\anaconda\\lib\\site-packages (from ghp-import>=1.0->mkdocs) (2.8.2)\n",
      "Collecting markdown>=3.3.6 (from mkdocs)\n",
      "  Downloading Markdown-3.6-py3-none-any.whl.metadata (7.0 kB)\n",
      "Requirement already satisfied: six>=1.5 in c:\\users\\16096\\anaconda\\lib\\site-packages (from python-dateutil>=2.8.1->ghp-import>=1.0->mkdocs) (1.16.0)\n",
      "Downloading mkdocs-1.6.0-py3-none-any.whl (3.9 MB)\n",
      "   ---------------------------------------- 0.0/3.9 MB ? eta -:--:--\n",
      "   ---------------------------------------- 0.0/3.9 MB ? eta -:--:--\n",
      "   ---------------------------------------- 0.0/3.9 MB 1.3 MB/s eta 0:00:03\n",
      "   ---------------------------------------- 0.0/3.9 MB 653.6 kB/s eta 0:00:06\n",
      "    --------------------------------------- 0.1/3.9 MB 657.6 kB/s eta 0:00:06\n",
      "   - -------------------------------------- 0.1/3.9 MB 722.1 kB/s eta 0:00:06\n",
      "   -- ------------------------------------- 0.2/3.9 MB 908.0 kB/s eta 0:00:05\n",
      "   -- ------------------------------------- 0.3/3.9 MB 1.1 MB/s eta 0:00:04\n",
      "   ---- ----------------------------------- 0.4/3.9 MB 1.3 MB/s eta 0:00:03\n",
      "   ------ --------------------------------- 0.6/3.9 MB 1.7 MB/s eta 0:00:02\n",
      "   -------- ------------------------------- 0.8/3.9 MB 2.0 MB/s eta 0:00:02\n",
      "   ----------- ---------------------------- 1.1/3.9 MB 2.6 MB/s eta 0:00:02\n",
      "   ------------- -------------------------- 1.4/3.9 MB 2.8 MB/s eta 0:00:01\n",
      "   ----------------- ---------------------- 1.7/3.9 MB 3.3 MB/s eta 0:00:01\n",
      "   ----------------------- ---------------- 2.3/3.9 MB 4.0 MB/s eta 0:00:01\n",
      "   ----------------------------- ---------- 2.9/3.9 MB 4.6 MB/s eta 0:00:01\n",
      "   ----------------------------------- ---- 3.4/3.9 MB 5.1 MB/s eta 0:00:01\n",
      "   ---------------------------------------  3.9/3.9 MB 5.4 MB/s eta 0:00:01\n",
      "   ---------------------------------------- 3.9/3.9 MB 5.4 MB/s eta 0:00:00\n",
      "Downloading mkdocstrings-0.25.1-py3-none-any.whl (29 kB)\n",
      "Downloading mkdocstrings_python-1.10.3-py3-none-any.whl (108 kB)\n",
      "   ---------------------------------------- 0.0/108.5 kB ? eta -:--:--\n",
      "   ---------------------------------------- 108.5/108.5 kB 6.1 MB/s eta 0:00:00\n",
      "Downloading ghp_import-2.1.0-py3-none-any.whl (11 kB)\n",
      "Downloading griffe-0.45.3-py3-none-any.whl (120 kB)\n",
      "   ---------------------------------------- 0.0/120.3 kB ? eta -:--:--\n",
      "   ---------------------------------------- 120.3/120.3 kB 7.3 MB/s eta 0:00:00\n",
      "Downloading mergedeep-1.3.4-py3-none-any.whl (6.4 kB)\n",
      "Downloading mkdocs_autorefs-1.0.1-py3-none-any.whl (13 kB)\n",
      "Downloading mkdocs_get_deps-0.2.0-py3-none-any.whl (9.5 kB)\n",
      "Downloading pathspec-0.12.1-py3-none-any.whl (31 kB)\n",
      "Downloading pymdown_extensions-10.8.1-py3-none-any.whl (250 kB)\n",
      "   ---------------------------------------- 0.0/250.8 kB ? eta -:--:--\n",
      "   ---------------------------------------- 250.8/250.8 kB 7.8 MB/s eta 0:00:00\n",
      "Downloading Markdown-3.6-py3-none-any.whl (105 kB)\n",
      "   ---------------------------------------- 0.0/105.4 kB ? eta -:--:--\n",
      "   ---------------------------------------- 105.4/105.4 kB ? eta 0:00:00\n",
      "Downloading pyyaml_env_tag-0.1-py3-none-any.whl (3.9 kB)\n",
      "Installing collected packages: pyyaml-env-tag, pathspec, mergedeep, markdown, griffe, pymdown-extensions, mkdocs-get-deps, ghp-import, mkdocs, mkdocs-autorefs, mkdocstrings, mkdocstrings-python\n",
      "  Attempting uninstall: pathspec\n",
      "    Found existing installation: pathspec 0.10.3\n",
      "    Uninstalling pathspec-0.10.3:\n",
      "      Successfully uninstalled pathspec-0.10.3\n",
      "  Attempting uninstall: markdown\n",
      "    Found existing installation: Markdown 3.4.1\n",
      "    Uninstalling Markdown-3.4.1:\n",
      "      Successfully uninstalled Markdown-3.4.1\n",
      "Successfully installed ghp-import-2.1.0 griffe-0.45.3 markdown-3.6 mergedeep-1.3.4 mkdocs-1.6.0 mkdocs-autorefs-1.0.1 mkdocs-get-deps-0.2.0 mkdocstrings-0.25.1 mkdocstrings-python-1.10.3 pathspec-0.12.1 pymdown-extensions-10.8.1 pyyaml-env-tag-0.1\n"
     ]
    }
   ],
   "source": [
    "!pip install mkdocs mkdocstrings mkdocstrings-python"
   ]
  },
  {
   "cell_type": "markdown",
   "metadata": {},
   "source": [
    "2. **Initialize the MkDocs Project:**"
   ]
  },
  {
   "cell_type": "code",
   "execution_count": 2,
   "metadata": {},
   "outputs": [
    {
     "name": "stderr",
     "output_type": "stream",
     "text": [
      "INFO    -  Writing config file: .\\mkdocs.yml\n",
      "INFO    -  Writing initial docs: .\\docs\\index.md\n"
     ]
    },
    {
     "data": {
      "text/plain": [
       "'C:\\\\Users\\\\16096\\\\Documents\\\\ISYS2001\\\\weathervista'"
      ]
     },
     "execution_count": 2,
     "metadata": {},
     "output_type": "execute_result"
    }
   ],
   "source": [
    "import os\n",
    "\n",
    "# Change directory to the root of your overall project\n",
    "os.chdir('..')\n",
    "\n",
    "# Initialize a new MkDocs project in the root directory\n",
    "!mkdocs new .\n",
    "\n",
    "# Verify the current working directory (should be the root of your overall project)\n",
    "os.getcwd()"
   ]
  },
  {
   "cell_type": "markdown",
   "metadata": {},
   "source": [
    "3. **Update the mkdocs.yml Configuration:**\n",
    "\n",
    "Create a new `mkdocs.yml` content to include the `mkdocstrings` plugin."
   ]
  },
  {
   "cell_type": "code",
   "execution_count": 3,
   "metadata": {},
   "outputs": [],
   "source": [
    "# Create a new mkdocs.yml content\n",
    "mkdocs_yml_content = \"\"\"\n",
    "site_name: My Project Documentation\n",
    "\n",
    "nav:\n",
    "    - Home: index.md\n",
    "    - API Reference:\n",
    "plugins:\n",
    "    - search\n",
    "    - mkdocstrings:\n",
    "        handlers:\n",
    "            python:\n",
    "                setup_commands:\n",
    "                    - pip install mkdocstrings-python\n",
    "\n",
    "# Paths to the documentation files\n",
    "docs_dir: docs\n",
    "site_dir: site\n",
    "\"\"\"\n",
    "\n",
    "# Write the content to mkdocs.yml\n",
    "with open('mkdocs.yml', 'w') as file:\n",
    "    file.write(mkdocs_yml_content)"
   ]
  },
  {
   "cell_type": "markdown",
   "metadata": {},
   "source": [
    "4. **Create the `index.md` Page:**\n",
    "\n",
    "Include the module references directly in the `index.md`.\n",
    "\n",
    "### index.md:"
   ]
  },
  {
   "cell_type": "code",
   "execution_count": null,
   "metadata": {},
   "outputs": [],
   "source": [
    "index_md_content = \"\"\"\n",
    "# Welcome to My Project Documentation\n",
    "\n",
    "This documentation covers the scripts used in the project.\n",
    "\n",
    "## API Reference\n",
    "\n",
    "### fetch_data\n",
    "\n",
    "::: scripts.fetch_data\n",
    "\n",
    "### process_data\n",
    "\n",
    "::: scripts.process_data\n",
    "\"\"\"\n",
    "\n",
    "# Write the content to index.md\n",
    "with open('docs/index.md', 'w') as file:\n",
    "    file.write(index_md_content)"
   ]
  },
  {
   "cell_type": "markdown",
   "metadata": {},
   "source": [
    "5. **Ensure `PYTHONPATH` is Set Correctly:**\n",
    "\n",
    "To make sure MkDocs can find your `scripts` directory, set the `PYTHONPATH` environment variable.\n",
    "\n",
    "You can set the `PYTHONPATH` in the terminal or include it in the build command.\n",
    "\n",
    "For example, in your terminal:\n",
    "\n",
    "```bash\n",
    "export PYTHONPATH=$(pwd)\n",
    "```\n"
   ]
  },
  {
   "cell_type": "code",
   "execution_count": null,
   "metadata": {},
   "outputs": [],
   "source": [
    "# Build the documentation with PYTHONPATH set\n",
    "!mkdocs build\n",
    "\n",
    "# Serve the documentation with PYTHONPATH set\n",
    "!mkdocs serve"
   ]
  },
  {
   "cell_type": "markdown",
   "metadata": {},
   "source": [
    "You can now access the documentation locally at http://127.0.0.1:8000.\n",
    "\n",
    "\n",
    "### Summary\n",
    "\n",
    "In this notebook, we learned how to:\n",
    "- Install MkDocs, `mkdocstrings`, and `mkdocstrings-python`.\n",
    "- Initialize an MkDocs project in the root of your overall project.\n",
    "- Configure MkDocs to use `mkdocstrings` for auto-generating documentation.\n",
    "- Directly include module references in the `index.md` file.\n",
    "- Ensure the `PYTHONPATH` is set correctly so MkDocs can find your scripts.\n",
    "- Build and serve the documentation locally.\n"
   ]
  }
 ],
 "metadata": {
  "kernelspec": {
   "display_name": "Python 3 (ipykernel)",
   "language": "python",
   "name": "python3"
  },
  "language_info": {
   "codemirror_mode": {
    "name": "ipython",
    "version": 3
   },
   "file_extension": ".py",
   "mimetype": "text/x-python",
   "name": "python",
   "nbconvert_exporter": "python",
   "pygments_lexer": "ipython3",
   "version": "3.11.7"
  }
 },
 "nbformat": 4,
 "nbformat_minor": 4
}
