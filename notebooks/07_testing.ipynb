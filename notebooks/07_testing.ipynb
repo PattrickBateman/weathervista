{
 "cells": [
  {
   "cell_type": "raw",
   "metadata": {},
   "source": [
    "---\n",
    "title: \"WeatherVista Project - Session 7: Writing and Running Tests with doctest\"\n",
    "execute: \n",
    "  enabled: false\n",
    "---"
   ]
  },
  {
   "cell_type": "markdown",
   "metadata": {},
   "source": [
    "## Objectives\n",
    "- Learn the importance of testing in software development.\n",
    "- Explore using `doctest` for inline testing within docstrings.\n",
    "\n",
    "## 1. Introduction to Testing\n",
    "\n",
    "Testing is crucial for ensuring the reliability and correctness of your code. In this session, we will focus on writing tests using `doctest`.\n",
    "\n",
    "## 2. Using `doctest` for Inline Testing\n",
    "\n",
    "### Example Function: `convert_temp_kelvin_to_celsius`\n",
    "\n",
    "Let's start with a simple weather-related function and add a `doctest` to it."
   ]
  },
  {
   "cell_type": "code",
   "execution_count": 1,
   "metadata": {},
   "outputs": [],
   "source": [
    "def convert_temp_kelvin_to_celsius(kelvin):\n",
    "    \"\"\"\n",
    "    Convert temperature from Kelvin to Celsius.\n",
    "\n",
    "    Args:\n",
    "    - kelvin (float): Temperature in Kelvin.\n",
    "\n",
    "    Returns:\n",
    "    - float: Temperature in Celsius.\n",
    "\n",
    "    Examples:\n",
    "    >>> convert_temp_kelvin_to_celsius(273.15)\n",
    "    0.0\n",
    "    >>> convert_temp_kelvin_to_celsius(0)\n",
    "    -273.15\n",
    "    >>> convert_temp_kelvin_to_celsius(373.15)\n",
    "    100.0\n",
    "    \"\"\"\n",
    "    return kelvin - 273.15"
   ]
  },
  {
   "cell_type": "code",
   "execution_count": 5,
   "metadata": {},
   "outputs": [
    {
     "name": "stdout",
     "output_type": "stream",
     "text": [
      "Help on function convert_temp_kelvin_to_celsius in module __main__:\n",
      "\n",
      "convert_temp_kelvin_to_celsius(kelvin)\n",
      "    Convert temperature from Kelvin to Celsius.\n",
      "    \n",
      "    Args:\n",
      "    - kelvin (float): Temperature in Kelvin.\n",
      "    \n",
      "    Returns:\n",
      "    - float: Temperature in Celsius.\n",
      "    \n",
      "    Examples:\n",
      "    >>> convert_temp_kelvin_to_celsius(273.15)\n",
      "    0.0\n",
      "    >>> convert_temp_kelvin_to_celsius(0)\n",
      "    -273.15\n",
      "    >>> convert_temp_kelvin_to_celsius(373.15)\n",
      "    100.0\n",
      "\n"
     ]
    }
   ],
   "source": [
    "help(convert_temp_kelvin_to_celsius)"
   ]
  },
  {
   "cell_type": "markdown",
   "metadata": {},
   "source": [
    "### Running `doctest` for `convert_temp_kelvin_to_celsius`\n",
    "\n",
    "To run `doctest` within the Jupyter notebook, you can use the `doctest` module directly.\n",
    "\n",
    "**Note**: The `doctest.testmod()` function will only test the functions that have been defined in cells that have already been executed. It does not scan the entire notebook; it only tests the functions and classes that are available in the current Python environment at the time it is called."
   ]
  },
  {
   "cell_type": "code",
   "execution_count": 2,
   "metadata": {},
   "outputs": [
    {
     "data": {
      "text/plain": [
       "TestResults(failed=0, attempted=3)"
      ]
     },
     "execution_count": 2,
     "metadata": {},
     "output_type": "execute_result"
    }
   ],
   "source": [
    "import doctest\n",
    "\n",
    "doctest.testmod()"
   ]
  },
  {
   "cell_type": "markdown",
   "metadata": {},
   "source": [
    "### More Complex Function: `fetch_weather_data`\n",
    "\n",
    "Now let's add another function that fetches weather data and includes a `doctest`."
   ]
  },
  {
   "cell_type": "code",
   "execution_count": 3,
   "metadata": {},
   "outputs": [],
   "source": [
    "import requests\n",
    "\n",
    "def fetch_weather_data(api_key, location):\n",
    "    \"\"\"\n",
    "    Fetch weather data from the OpenWeatherMap API.\n",
    "\n",
    "    Args:\n",
    "    - api_key (str): The API key for authentication.\n",
    "    - location (str): The location for which to fetch weather data.\n",
    "\n",
    "    Returns:\n",
    "    - dict: A dictionary containing weather data.\n",
    "\n",
    "    Examples:\n",
    "    >>> fetch_weather_data('invalid_api_key', 'London') is None\n",
    "    True\n",
    "    >>> data = fetch_weather_data('your_api_key_here', 'London')\n",
    "    >>> data['Location'] == 'London'\n",
    "    True\n",
    "    \"\"\"\n",
    "    url = f\"http://api.openweathermap.org/data/2.5/weather?q={location}&appid={api_key}\"\n",
    "    response = requests.get(url)\n",
    "    if response.status_code == 200:\n",
    "        data = response.json()\n",
    "        weather_info = {\n",
    "            \"Location\": data[\"name\"],\n",
    "            \"Temperature (C)\": data[\"main\"][\"temp\"] - 273.15,\n",
    "            \"Humidity (%)\": data[\"main\"][\"humidity\"],\n",
    "            \"Weather\": data[\"weather\"][0][\"description\"]\n",
    "        }\n",
    "        return weather_info\n",
    "    else:\n",
    "        return None"
   ]
  },
  {
   "cell_type": "code",
   "execution_count": 9,
   "metadata": {
    "scrolled": true
   },
   "outputs": [
    {
     "data": {
      "text/plain": [
       "True"
      ]
     },
     "execution_count": 9,
     "metadata": {},
     "output_type": "execute_result"
    }
   ],
   "source": [
    "fetch_weather_data('invalid_api_key', 'London') is None"
   ]
  },
  {
   "cell_type": "code",
   "execution_count": null,
   "metadata": {},
   "outputs": [],
   "source": [
    "#Test Table\n"
   ]
  },
  {
   "cell_type": "markdown",
   "metadata": {},
   "source": [
    "### Running `doctest` for `fetch_weather_data`\n",
    "\n",
    "Again, ensure the function is defined in a previously executed cell before running `doctest.testmod()`."
   ]
  },
  {
   "cell_type": "code",
   "execution_count": 4,
   "metadata": {},
   "outputs": [
    {
     "name": "stdout",
     "output_type": "stream",
     "text": [
      "**********************************************************************\n",
      "File \"__main__\", line 18, in __main__.fetch_weather_data\n",
      "Failed example:\n",
      "    data['Location'] == 'London'\n",
      "Exception raised:\n",
      "    Traceback (most recent call last):\n",
      "      File \"C:\\Users\\16096\\anaconda\\Lib\\doctest.py\", line 1353, in __run\n",
      "        exec(compile(example.source, filename, \"single\",\n",
      "      File \"<doctest __main__.fetch_weather_data[2]>\", line 1, in <module>\n",
      "        data['Location'] == 'London'\n",
      "        ~~~~^^^^^^^^^^^^\n",
      "    TypeError: 'NoneType' object is not subscriptable\n",
      "**********************************************************************\n",
      "1 items had failures:\n",
      "   1 of   3 in __main__.fetch_weather_data\n",
      "***Test Failed*** 1 failures.\n"
     ]
    },
    {
     "data": {
      "text/plain": [
       "TestResults(failed=1, attempted=6)"
      ]
     },
     "execution_count": 4,
     "metadata": {},
     "output_type": "execute_result"
    }
   ],
   "source": [
    "import doctest\n",
    "\n",
    "doctest.testmod()"
   ]
  },
  {
   "cell_type": "markdown",
   "metadata": {},
   "source": [
    "### 3. Adding doctests to WeatherVista Functions\n",
    "\n",
    "Add `doctest` to our functions in the `scripts` directory.\n",
    "\n",
    "### scripts/fetch_data.py\n",
    "\n",
    "```python\n",
    "def fetch_weather_data(api_key, location):\n",
    "    \"\"\"\n",
    "    Fetch weather data from the OpenWeatherMap API.\n",
    "\n",
    "    Args:\n",
    "    - api_key (str): The API key for authentication.\n",
    "    - location (str): The location for which to fetch weather data.\n",
    "\n",
    "    Returns:\n",
    "    - dict: A dictionary containing weather data.\n",
    "\n",
    "    Examples:\n",
    "    >>> fetch_weather_data('invalid_api_key', 'London') is None\n",
    "    True\n",
    "    \"\"\"\n",
    "    url = f\"http://api.openweathermap.org/data/2.5/weather?q={location}&appid={api_key}\"\n",
    "    response = requests.get(url)\n",
    "    if response.status_code == 200:\n",
    "        data = response.json()\n",
    "        weather_info = {\n",
    "            \"Location\": data[\"name\"],\n",
    "            \"Temperature (C)\": data[\"main\"][\"temp\"] - 273.15,\n",
    "            \"Humidity (%)\": data[\"main\"][\"humidity\"],\n",
    "            \"Weather\": data[\"weather\"][0][\"description\"]\n",
    "        }\n",
    "        return weather_info\n",
    "    else:\n",
    "        return None\n",
    "```\n",
    "\n",
    "### Running `doctest` for WeatherVista\n",
    "\n",
    "To run `doctest` for this function, at the command line:\n",
    "\n",
    "```python\n",
    "python -m doctest -v scripts/fetch_data.py\n",
    "```\n",
    "\n",
    "### scripts/process_data.py\n",
    "\n",
    "```python\n",
    "def convert_temp_kelvin_to_celsius(kelvin):\n",
    "    \"\"\"\n",
    "    Convert temperature from Kelvin to Celsius.\n",
    "\n",
    "    Args:\n",
    "    - kelvin (float): Temperature in Kelvin.\n",
    "\n",
    "    Returns:\n",
    "    - float: Temperature in Celsius.\n",
    "\n",
    "    Examples:\n",
    "    >>> convert_temp_kelvin_to_celsius(273.15)\n",
    "    0.0\n",
    "    >>> convert_temp_kelvin_to_celsius(0)\n",
    "    -273.15\n",
    "    >>> convert_temp_kelvin_to_celsius(373.15)\n",
    "    100.0\n",
    "    \"\"\"\n",
    "    return kelvin - 273.15\n",
    "```\n",
    "\n",
    "### Running `doctest` for Data Processing Functions\n",
    "\n",
    "To run `doctest` for this function:\n",
    "\n",
    "```python\n",
    "python -m doctest -v scripts/process_data.py\n",
    "```\n",
    "\n",
    "### 4. Integrating Tests into the Project\n",
    "\n",
    "Create a script to run all `doctests` in the project.\n",
    "\n",
    "### run_doctests.py\n",
    "\n",
    "```python\n",
    "import doctest\n",
    "import scripts.fetch_data\n",
    "import scripts.process_data\n",
    "\n",
    "def run_all_doctests():\n",
    "    doctest.testmod(scripts.fetch_data)\n",
    "    doctest.testmod(scripts.process_data)\n",
    "\n",
    "if __name__ == \"__main__\":\n",
    "    run_all_doctests()\n",
    "```\n",
    "\n",
    "### Running All doctests\n",
    "\n",
    "To run all doctests in the project:\n",
    "\n",
    "```python\n",
    "python run_doctests.py\n",
    "```\n",
    "\n",
    "## Homework\n",
    "- Add more `doctest` cases to cover edge cases and different scenarios.\n",
    "- Explore using other testing frameworks and tools to enhance your testing strategy.\n",
    "\n",
    "## Summary\n",
    "In this session, we learned the importance of testing and how to write and run tests using `doctest`. We added tests for our weather fetching and data processing functions to ensure their correctness and reliability.\n",
    "\n",
    "Next session, we will focus on finalising the project, adding documentation, and discussing distribution methods."
   ]
  },
  {
   "cell_type": "code",
   "execution_count": 11,
   "metadata": {},
   "outputs": [
    {
     "ename": "ModuleNotFoundError",
     "evalue": "No module named 'scripts.utils'",
     "output_type": "error",
     "traceback": [
      "\u001b[1;31m---------------------------------------------------------------------------\u001b[0m",
      "\u001b[1;31mModuleNotFoundError\u001b[0m                       Traceback (most recent call last)",
      "Cell \u001b[1;32mIn[11], line 2\u001b[0m\n\u001b[0;32m      1\u001b[0m \u001b[38;5;28;01mimport\u001b[39;00m \u001b[38;5;21;01mdoctest\u001b[39;00m\n\u001b[1;32m----> 2\u001b[0m \u001b[38;5;28;01mimport\u001b[39;00m \u001b[38;5;21;01mscripts\u001b[39;00m\u001b[38;5;21;01m.\u001b[39;00m\u001b[38;5;21;01mutils\u001b[39;00m\n\u001b[0;32m      4\u001b[0m \u001b[38;5;28;01mdef\u001b[39;00m \u001b[38;5;21mrun_all_doctests\u001b[39m():\n\u001b[0;32m      5\u001b[0m     doctest\u001b[38;5;241m.\u001b[39mtestmod(scripts\u001b[38;5;241m.\u001b[39mutils)\n",
      "\u001b[1;31mModuleNotFoundError\u001b[0m: No module named 'scripts.utils'"
     ]
    }
   ],
   "source": [
    "import doctest\n",
    "import scripts.utils\n",
    "\n",
    "def run_all_doctests():\n",
    "    doctest.testmod(scripts.utils)\n",
    "\n",
    "if __name__ == \"__main__\":\n",
    "    run_all_doctests()"
   ]
  },
  {
   "cell_type": "code",
   "execution_count": null,
   "metadata": {},
   "outputs": [],
   "source": []
  }
 ],
 "metadata": {
  "kernelspec": {
   "display_name": "Python 3 (ipykernel)",
   "language": "python",
   "name": "python3"
  },
  "language_info": {
   "codemirror_mode": {
    "name": "ipython",
    "version": 3
   },
   "file_extension": ".py",
   "mimetype": "text/x-python",
   "name": "python",
   "nbconvert_exporter": "python",
   "pygments_lexer": "ipython3",
   "version": "3.11.7"
  }
 },
 "nbformat": 4,
 "nbformat_minor": 4
}
