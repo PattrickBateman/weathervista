{
 "cells": [
  {
   "cell_type": "raw",
   "metadata": {},
   "source": [
    "---\n",
    "title: \"WeatherVista Project - REVIEW Session 2: Data Review and Fetching\"\n",
    "execute: \n",
    "  enabled: false\n",
    "---"
   ]
  },
  {
   "cell_type": "markdown",
   "metadata": {},
   "source": [
    "#### Objectives\n",
    "- Learn how to fetch weather forecast data using the OpenWeatherMap API.\n",
    "- Understand how to process and save the fetched data.\n",
    "- Review the structure and content of the raw and processed data.\n",
    "- Calculate daily weather statistics from forecast data.\n",
    "\n",
    "#### 1. Introduction to Data Fetching\n",
    "In this session, we will fetch weather forecast data from the OpenWeatherMap API and process it for analysis.\n",
    "\n",
    "##### Import Required Libraries"
   ]
  },
  {
   "cell_type": "code",
   "execution_count": 3,
   "metadata": {},
   "outputs": [],
   "source": [
    "import requests\n",
    "import pandas as pd"
   ]
  },
  {
   "cell_type": "markdown",
   "metadata": {},
   "source": [
    "##### Set Up API Key and City\n",
    "Replace the placeholder with your own OpenWeatherMap API key."
   ]
  },
  {
   "cell_type": "code",
   "execution_count": 5,
   "metadata": {},
   "outputs": [],
   "source": [
    "# Replace with your OpenWeatherMap API key\n",
    "API_KEY = '97490e98294c10e32022a2ef28d662fa'\n",
    "city = 'Guangzhou'"
   ]
  },
  {
   "cell_type": "markdown",
   "metadata": {},
   "source": [
    "#### 2. Fetching Weather Forecast Data\n",
    "We will define a function to fetch the 5-day weather forecast data for a specified city.\n",
    "\n",
    "##### Define Function to Fetch Data"
   ]
  },
  {
   "cell_type": "code",
   "execution_count": 7,
   "metadata": {},
   "outputs": [],
   "source": [
    "# Function to fetch data from the given URL and return JSON\n",
    "def fetch_data(url):\n",
    "    response = requests.get(url)\n",
    "    data = response.json()\n",
    "    if response.status_code != 200:\n",
    "        print(f\"Error fetching data: {data}\")\n",
    "        return None\n",
    "    return data"
   ]
  },
  {
   "cell_type": "markdown",
   "metadata": {},
   "source": [
    "##### Fetch Data"
   ]
  },
  {
   "cell_type": "code",
   "execution_count": 9,
   "metadata": {},
   "outputs": [],
   "source": [
    "# Fetch current weather data\n",
    "current_url = f'http://api.openweathermap.org/data/2.5/weather?q={city}&appid={API_KEY}'\n",
    "current_data = fetch_data(current_url)\n",
    "\n",
    "# Fetch 5-day forecast data\n",
    "forecast_url = f'http://api.openweathermap.org/data/2.5/forecast?q={city}&appid={API_KEY}'\n",
    "forecast_data = fetch_data(forecast_url)"
   ]
  },
  {
   "cell_type": "markdown",
   "metadata": {},
   "source": [
    "#### 3. Processing and Saving Data\n",
    "We will process the fetched data to extract relevant information and save it in CSV format.\n",
    "\n",
    "##### Parse Weather Data"
   ]
  },
  {
   "cell_type": "code",
   "execution_count": 11,
   "metadata": {},
   "outputs": [],
   "source": [
    "# Function to parse a single weather entry into a dictionary\n",
    "def parse_weather(entry):\n",
    "    if entry is None:\n",
    "        return None\n",
    "    return {\n",
    "        'Datetime': pd.to_datetime(entry['dt'], unit='s'),\n",
    "        'Temperature (C)': entry['main']['temp'] - 273.15,\n",
    "        'Humidity (%)': entry['main']['humidity'],\n",
    "        'Wind Speed (m/s)': entry['wind']['speed'],\n",
    "        'Weather': entry['weather'][0]['description']\n",
    "    }"
   ]
  },
  {
   "cell_type": "markdown",
   "metadata": {},
   "source": [
    "##### Extract and Process Data"
   ]
  },
  {
   "cell_type": "code",
   "execution_count": 13,
   "metadata": {},
   "outputs": [
    {
     "name": "stdout",
     "output_type": "stream",
     "text": [
      "[{'Datetime': Timestamp('2024-06-07 03:00:00'), 'Temperature (C)': 24.970000000000027, 'Humidity (%)': 90, 'Wind Speed (m/s)': 1.96, 'Weather': 'light rain'}, {'Datetime': Timestamp('2024-06-07 06:00:00'), 'Temperature (C)': 24.5, 'Humidity (%)': 91, 'Wind Speed (m/s)': 2.07, 'Weather': 'light rain'}, {'Datetime': Timestamp('2024-06-07 09:00:00'), 'Temperature (C)': 24.29000000000002, 'Humidity (%)': 91, 'Wind Speed (m/s)': 2.07, 'Weather': 'light rain'}, {'Datetime': Timestamp('2024-06-07 12:00:00'), 'Temperature (C)': 23.720000000000027, 'Humidity (%)': 93, 'Wind Speed (m/s)': 1.75, 'Weather': 'overcast clouds'}, {'Datetime': Timestamp('2024-06-07 15:00:00'), 'Temperature (C)': 23.78000000000003, 'Humidity (%)': 93, 'Wind Speed (m/s)': 1.26, 'Weather': 'overcast clouds'}, {'Datetime': Timestamp('2024-06-07 18:00:00'), 'Temperature (C)': 23.670000000000016, 'Humidity (%)': 94, 'Wind Speed (m/s)': 1.38, 'Weather': 'light rain'}, {'Datetime': Timestamp('2024-06-07 21:00:00'), 'Temperature (C)': 23.680000000000007, 'Humidity (%)': 94, 'Wind Speed (m/s)': 1.35, 'Weather': 'light rain'}, {'Datetime': Timestamp('2024-06-08 00:00:00'), 'Temperature (C)': 24.970000000000027, 'Humidity (%)': 88, 'Wind Speed (m/s)': 1.7, 'Weather': 'overcast clouds'}, {'Datetime': Timestamp('2024-06-08 03:00:00'), 'Temperature (C)': 27.200000000000045, 'Humidity (%)': 79, 'Wind Speed (m/s)': 1.53, 'Weather': 'overcast clouds'}, {'Datetime': Timestamp('2024-06-08 06:00:00'), 'Temperature (C)': 29.910000000000025, 'Humidity (%)': 69, 'Wind Speed (m/s)': 1.64, 'Weather': 'light rain'}, {'Datetime': Timestamp('2024-06-08 09:00:00'), 'Temperature (C)': 29.54000000000002, 'Humidity (%)': 74, 'Wind Speed (m/s)': 3.83, 'Weather': 'light rain'}, {'Datetime': Timestamp('2024-06-08 12:00:00'), 'Temperature (C)': 27.02000000000004, 'Humidity (%)': 87, 'Wind Speed (m/s)': 3.05, 'Weather': 'moderate rain'}, {'Datetime': Timestamp('2024-06-08 15:00:00'), 'Temperature (C)': 26.220000000000027, 'Humidity (%)': 90, 'Wind Speed (m/s)': 3.16, 'Weather': 'moderate rain'}, {'Datetime': Timestamp('2024-06-08 18:00:00'), 'Temperature (C)': 25.82000000000005, 'Humidity (%)': 91, 'Wind Speed (m/s)': 2.36, 'Weather': 'light rain'}, {'Datetime': Timestamp('2024-06-08 21:00:00'), 'Temperature (C)': 25.57000000000005, 'Humidity (%)': 91, 'Wind Speed (m/s)': 2.44, 'Weather': 'moderate rain'}, {'Datetime': Timestamp('2024-06-09 00:00:00'), 'Temperature (C)': 25.980000000000018, 'Humidity (%)': 90, 'Wind Speed (m/s)': 2.12, 'Weather': 'light rain'}, {'Datetime': Timestamp('2024-06-09 03:00:00'), 'Temperature (C)': 29.960000000000036, 'Humidity (%)': 71, 'Wind Speed (m/s)': 2.78, 'Weather': 'light rain'}, {'Datetime': Timestamp('2024-06-09 06:00:00'), 'Temperature (C)': 32.26000000000005, 'Humidity (%)': 59, 'Wind Speed (m/s)': 3.46, 'Weather': 'light rain'}, {'Datetime': Timestamp('2024-06-09 09:00:00'), 'Temperature (C)': 29.470000000000027, 'Humidity (%)': 77, 'Wind Speed (m/s)': 1.51, 'Weather': 'moderate rain'}, {'Datetime': Timestamp('2024-06-09 12:00:00'), 'Temperature (C)': 28.170000000000016, 'Humidity (%)': 82, 'Wind Speed (m/s)': 2.14, 'Weather': 'light rain'}, {'Datetime': Timestamp('2024-06-09 15:00:00'), 'Temperature (C)': 26.99000000000001, 'Humidity (%)': 88, 'Wind Speed (m/s)': 2.52, 'Weather': 'light rain'}, {'Datetime': Timestamp('2024-06-09 18:00:00'), 'Temperature (C)': 26.410000000000025, 'Humidity (%)': 89, 'Wind Speed (m/s)': 2.36, 'Weather': 'light rain'}, {'Datetime': Timestamp('2024-06-09 21:00:00'), 'Temperature (C)': 25.920000000000016, 'Humidity (%)': 89, 'Wind Speed (m/s)': 1.8, 'Weather': 'light rain'}, {'Datetime': Timestamp('2024-06-10 00:00:00'), 'Temperature (C)': 27.590000000000032, 'Humidity (%)': 83, 'Wind Speed (m/s)': 1.93, 'Weather': 'light rain'}, {'Datetime': Timestamp('2024-06-10 03:00:00'), 'Temperature (C)': 31.129999999999995, 'Humidity (%)': 64, 'Wind Speed (m/s)': 2.91, 'Weather': 'light rain'}, {'Datetime': Timestamp('2024-06-10 06:00:00'), 'Temperature (C)': 30.600000000000023, 'Humidity (%)': 69, 'Wind Speed (m/s)': 1.36, 'Weather': 'moderate rain'}, {'Datetime': Timestamp('2024-06-10 09:00:00'), 'Temperature (C)': 28.629999999999995, 'Humidity (%)': 82, 'Wind Speed (m/s)': 2.26, 'Weather': 'moderate rain'}, {'Datetime': Timestamp('2024-06-10 12:00:00'), 'Temperature (C)': 27.689999999999998, 'Humidity (%)': 83, 'Wind Speed (m/s)': 3.06, 'Weather': 'light rain'}, {'Datetime': Timestamp('2024-06-10 15:00:00'), 'Temperature (C)': 26.680000000000007, 'Humidity (%)': 88, 'Wind Speed (m/s)': 2.57, 'Weather': 'light rain'}, {'Datetime': Timestamp('2024-06-10 18:00:00'), 'Temperature (C)': 26.370000000000005, 'Humidity (%)': 88, 'Wind Speed (m/s)': 1.71, 'Weather': 'light rain'}, {'Datetime': Timestamp('2024-06-10 21:00:00'), 'Temperature (C)': 26.05000000000001, 'Humidity (%)': 91, 'Wind Speed (m/s)': 0.8, 'Weather': 'light rain'}, {'Datetime': Timestamp('2024-06-11 00:00:00'), 'Temperature (C)': 27.33000000000004, 'Humidity (%)': 85, 'Wind Speed (m/s)': 0.95, 'Weather': 'light rain'}, {'Datetime': Timestamp('2024-06-11 03:00:00'), 'Temperature (C)': 27.950000000000045, 'Humidity (%)': 82, 'Wind Speed (m/s)': 1.6, 'Weather': 'light rain'}, {'Datetime': Timestamp('2024-06-11 06:00:00'), 'Temperature (C)': 31.970000000000027, 'Humidity (%)': 62, 'Wind Speed (m/s)': 1.64, 'Weather': 'light rain'}, {'Datetime': Timestamp('2024-06-11 09:00:00'), 'Temperature (C)': 30.430000000000007, 'Humidity (%)': 70, 'Wind Speed (m/s)': 3.23, 'Weather': 'light rain'}, {'Datetime': Timestamp('2024-06-11 12:00:00'), 'Temperature (C)': 28.79000000000002, 'Humidity (%)': 76, 'Wind Speed (m/s)': 4.09, 'Weather': 'broken clouds'}, {'Datetime': Timestamp('2024-06-11 15:00:00'), 'Temperature (C)': 27.58000000000004, 'Humidity (%)': 79, 'Wind Speed (m/s)': 3.03, 'Weather': 'broken clouds'}, {'Datetime': Timestamp('2024-06-11 18:00:00'), 'Temperature (C)': 26.710000000000036, 'Humidity (%)': 85, 'Wind Speed (m/s)': 1.83, 'Weather': 'broken clouds'}, {'Datetime': Timestamp('2024-06-11 21:00:00'), 'Temperature (C)': 26.390000000000043, 'Humidity (%)': 88, 'Wind Speed (m/s)': 1.45, 'Weather': 'overcast clouds'}, {'Datetime': Timestamp('2024-06-12 00:00:00'), 'Temperature (C)': 28.189999999999998, 'Humidity (%)': 80, 'Wind Speed (m/s)': 1.4, 'Weather': 'overcast clouds'}]\n"
     ]
    }
   ],
   "source": [
    "# Process current weather data\n",
    "current_weather = parse_weather(current_data)\n",
    "\n",
    "# Process forecast weather data\n",
    "forecast_weather = [parse_weather(entry) for entry in forecast_data['list']]\n",
    "print(forecast_weather)"
   ]
  },
  {
   "cell_type": "markdown",
   "metadata": {},
   "source": [
    "##### Save Data to CSV"
   ]
  },
  {
   "cell_type": "code",
   "execution_count": 15,
   "metadata": {},
   "outputs": [
    {
     "name": "stdout",
     "output_type": "stream",
     "text": [
      "../data/processed/current_weather_data.csv saved\n",
      "../data/processed/hourly_weather_data.csv saved\n"
     ]
    }
   ],
   "source": [
    "# Function to save a list of dictionaries to a CSV file\n",
    "def save_to_csv(data, filename):\n",
    "    if data is None or not data:\n",
    "        print(f\"No data to save for {filename}\")\n",
    "        return\n",
    "    df = pd.DataFrame(data)\n",
    "    df.to_csv(filename, index=False)\n",
    "    print(f\"{filename} saved\")\n",
    "\n",
    "# Save current weather data to CSV\n",
    "save_to_csv([current_weather], '../data/processed/current_weather_data.csv')\n",
    "\n",
    "# Save forecast weather data to CSV\n",
    "save_to_csv(forecast_weather, '../data/processed/hourly_weather_data.csv')"
   ]
  },
  {
   "cell_type": "markdown",
   "metadata": {},
   "source": [
    "##### Calculate Daily Statistics"
   ]
  },
  {
   "cell_type": "code",
   "execution_count": 17,
   "metadata": {},
   "outputs": [
    {
     "name": "stdout",
     "output_type": "stream",
     "text": [
      "Data saved to ../data/processed/daily_weather_stats.csv\n"
     ]
    }
   ],
   "source": [
    "# Function to calculate daily min and max stats from forecast data\n",
    "def save_to_csv(data, filename):\n",
    "    if data is None or data.empty:\n",
    "        print(f\"No data to save for {filename}\")\n",
    "        return\n",
    "    data.to_csv(filename, index=False)\n",
    "    print(f\"Data saved to {filename}\")\n",
    "def calculate_daily_stats(forecast_data):\n",
    "    if forecast_data is None:\n",
    "        return None\n",
    "    \n",
    "    # Convert the list of dictionaries to a DataFrame\n",
    "    df_forecast = pd.DataFrame(forecast_data)\n",
    "    if not pd.api.types.is_datetime64_any_dtype(df_forecast['Datetime']):\n",
    "        df_forecast['Datetime'] = pd.to_datetime(df_forecast['Datetime'])\n",
    "    # Extract the date from the 'Datetime' column and create a new 'Date' column\n",
    "    df_forecast['Date'] = df_forecast['Datetime'].dt.date\n",
    "\n",
    "    # Group the data by the 'Date' column and calculate the min and max for each group\n",
    "    daily_stats = df_forecast.groupby('Date').agg({\n",
    "        'Temperature (C)': ['min', 'max'],\n",
    "        'Humidity (%)': ['min', 'max'],\n",
    "        'Wind Speed (m/s)': ['min', 'max']\n",
    "    })\n",
    "\n",
    "    # Flatten the MultiIndex columns\n",
    "    daily_stats.columns = ['Min Temperature (C)', 'Max Temperature (C)', \n",
    "                           'Min Humidity (%)', 'Max Humidity (%)', \n",
    "                           'Min Wind Speed (m/s)', 'Max Wind Speed (m/s)']\n",
    "    \n",
    "    # Reset the index to turn the 'Date' back into a column\n",
    "    daily_stats.reset_index(inplace=True)\n",
    "    \n",
    "    return daily_stats\n",
    "\n",
    "# Calculate and save daily statistics to CSV\n",
    "daily_stats = calculate_daily_stats(forecast_weather)\n",
    "save_to_csv(daily_stats, '../data/processed/daily_weather_stats.csv')"
   ]
  },
  {
   "cell_type": "markdown",
   "metadata": {},
   "source": [
    "#### 4. Reviewing the Data\n",
    "We will review the structure and content of the raw and processed data to ensure it is correctly fetched and processed.\n",
    "\n",
    "##### Display the First Few Rows of Raw Data"
   ]
  },
  {
   "cell_type": "code",
   "execution_count": 19,
   "metadata": {},
   "outputs": [
    {
     "data": {
      "text/html": [
       "<div>\n",
       "<style scoped>\n",
       "    .dataframe tbody tr th:only-of-type {\n",
       "        vertical-align: middle;\n",
       "    }\n",
       "\n",
       "    .dataframe tbody tr th {\n",
       "        vertical-align: top;\n",
       "    }\n",
       "\n",
       "    .dataframe thead th {\n",
       "        text-align: right;\n",
       "    }\n",
       "</style>\n",
       "<table border=\"1\" class=\"dataframe\">\n",
       "  <thead>\n",
       "    <tr style=\"text-align: right;\">\n",
       "      <th></th>\n",
       "      <th>Datetime</th>\n",
       "      <th>Temperature (C)</th>\n",
       "      <th>Humidity (%)</th>\n",
       "      <th>Wind Speed (m/s)</th>\n",
       "      <th>Weather</th>\n",
       "    </tr>\n",
       "  </thead>\n",
       "  <tbody>\n",
       "    <tr>\n",
       "      <th>0</th>\n",
       "      <td>2024-06-07 03:00:00</td>\n",
       "      <td>24.97</td>\n",
       "      <td>90</td>\n",
       "      <td>1.96</td>\n",
       "      <td>light rain</td>\n",
       "    </tr>\n",
       "    <tr>\n",
       "      <th>1</th>\n",
       "      <td>2024-06-07 06:00:00</td>\n",
       "      <td>24.50</td>\n",
       "      <td>91</td>\n",
       "      <td>2.07</td>\n",
       "      <td>light rain</td>\n",
       "    </tr>\n",
       "    <tr>\n",
       "      <th>2</th>\n",
       "      <td>2024-06-07 09:00:00</td>\n",
       "      <td>24.29</td>\n",
       "      <td>91</td>\n",
       "      <td>2.07</td>\n",
       "      <td>light rain</td>\n",
       "    </tr>\n",
       "    <tr>\n",
       "      <th>3</th>\n",
       "      <td>2024-06-07 12:00:00</td>\n",
       "      <td>23.72</td>\n",
       "      <td>93</td>\n",
       "      <td>1.75</td>\n",
       "      <td>overcast clouds</td>\n",
       "    </tr>\n",
       "    <tr>\n",
       "      <th>4</th>\n",
       "      <td>2024-06-07 15:00:00</td>\n",
       "      <td>23.78</td>\n",
       "      <td>93</td>\n",
       "      <td>1.26</td>\n",
       "      <td>overcast clouds</td>\n",
       "    </tr>\n",
       "  </tbody>\n",
       "</table>\n",
       "</div>"
      ],
      "text/plain": [
       "              Datetime  Temperature (C)  Humidity (%)  Wind Speed (m/s)  \\\n",
       "0  2024-06-07 03:00:00            24.97            90              1.96   \n",
       "1  2024-06-07 06:00:00            24.50            91              2.07   \n",
       "2  2024-06-07 09:00:00            24.29            91              2.07   \n",
       "3  2024-06-07 12:00:00            23.72            93              1.75   \n",
       "4  2024-06-07 15:00:00            23.78            93              1.26   \n",
       "\n",
       "           Weather  \n",
       "0       light rain  \n",
       "1       light rain  \n",
       "2       light rain  \n",
       "3  overcast clouds  \n",
       "4  overcast clouds  "
      ]
     },
     "execution_count": 19,
     "metadata": {},
     "output_type": "execute_result"
    }
   ],
   "source": [
    "df_raw = pd.read_csv('../data/processed/hourly_weather_data.csv')\n",
    "df_raw.head()"
   ]
  },
  {
   "cell_type": "markdown",
   "metadata": {},
   "source": [
    "##### Display the First Few Rows of Processed Data"
   ]
  },
  {
   "cell_type": "code",
   "execution_count": 24,
   "metadata": {},
   "outputs": [
    {
     "data": {
      "text/html": [
       "<div>\n",
       "<style scoped>\n",
       "    .dataframe tbody tr th:only-of-type {\n",
       "        vertical-align: middle;\n",
       "    }\n",
       "\n",
       "    .dataframe tbody tr th {\n",
       "        vertical-align: top;\n",
       "    }\n",
       "\n",
       "    .dataframe thead th {\n",
       "        text-align: right;\n",
       "    }\n",
       "</style>\n",
       "<table border=\"1\" class=\"dataframe\">\n",
       "  <thead>\n",
       "    <tr style=\"text-align: right;\">\n",
       "      <th></th>\n",
       "      <th>Date</th>\n",
       "      <th>Min Temperature (C)</th>\n",
       "      <th>Max Temperature (C)</th>\n",
       "      <th>Min Humidity (%)</th>\n",
       "      <th>Max Humidity (%)</th>\n",
       "      <th>Min Wind Speed (m/s)</th>\n",
       "      <th>Max Wind Speed (m/s)</th>\n",
       "    </tr>\n",
       "  </thead>\n",
       "  <tbody>\n",
       "    <tr>\n",
       "      <th>0</th>\n",
       "      <td>2024-06-07</td>\n",
       "      <td>23.67</td>\n",
       "      <td>24.97</td>\n",
       "      <td>90</td>\n",
       "      <td>94</td>\n",
       "      <td>1.26</td>\n",
       "      <td>2.07</td>\n",
       "    </tr>\n",
       "    <tr>\n",
       "      <th>1</th>\n",
       "      <td>2024-06-08</td>\n",
       "      <td>24.97</td>\n",
       "      <td>29.91</td>\n",
       "      <td>69</td>\n",
       "      <td>91</td>\n",
       "      <td>1.53</td>\n",
       "      <td>3.83</td>\n",
       "    </tr>\n",
       "    <tr>\n",
       "      <th>2</th>\n",
       "      <td>2024-06-09</td>\n",
       "      <td>25.92</td>\n",
       "      <td>32.26</td>\n",
       "      <td>59</td>\n",
       "      <td>90</td>\n",
       "      <td>1.51</td>\n",
       "      <td>3.46</td>\n",
       "    </tr>\n",
       "    <tr>\n",
       "      <th>3</th>\n",
       "      <td>2024-06-10</td>\n",
       "      <td>26.05</td>\n",
       "      <td>31.13</td>\n",
       "      <td>64</td>\n",
       "      <td>91</td>\n",
       "      <td>0.80</td>\n",
       "      <td>3.06</td>\n",
       "    </tr>\n",
       "    <tr>\n",
       "      <th>4</th>\n",
       "      <td>2024-06-11</td>\n",
       "      <td>26.39</td>\n",
       "      <td>31.97</td>\n",
       "      <td>62</td>\n",
       "      <td>88</td>\n",
       "      <td>0.95</td>\n",
       "      <td>4.09</td>\n",
       "    </tr>\n",
       "  </tbody>\n",
       "</table>\n",
       "</div>"
      ],
      "text/plain": [
       "         Date  Min Temperature (C)  Max Temperature (C)  Min Humidity (%)  \\\n",
       "0  2024-06-07                23.67                24.97                90   \n",
       "1  2024-06-08                24.97                29.91                69   \n",
       "2  2024-06-09                25.92                32.26                59   \n",
       "3  2024-06-10                26.05                31.13                64   \n",
       "4  2024-06-11                26.39                31.97                62   \n",
       "\n",
       "   Max Humidity (%)  Min Wind Speed (m/s)  Max Wind Speed (m/s)  \n",
       "0                94                  1.26                  2.07  \n",
       "1                91                  1.53                  3.83  \n",
       "2                90                  1.51                  3.46  \n",
       "3                91                  0.80                  3.06  \n",
       "4                88                  0.95                  4.09  "
      ]
     },
     "execution_count": 24,
     "metadata": {},
     "output_type": "execute_result"
    }
   ],
   "source": [
    "df_processed = pd.read_csv('../data/processed/daily_weather_stats.csv')\n",
    "df_processed.head()"
   ]
  },
  {
   "cell_type": "markdown",
   "metadata": {},
   "source": [
    "#### Homework\n",
    "- Experiment with fetching data for different cities and review the structure of the fetched data.\n",
    "- Extend the data processing to include additional weather parameters if available.\n",
    "\n",
    "#### Summary\n",
    "In this session, we learned how to fetch weather forecast data using the OpenWeatherMap API. We processed the data to convert temperature values from Kelvin to Celsius and saved both raw and processed data to CSV files. We also calculated daily weather statistics, preparing us for further analysis and visualization in upcoming sessions."
   ]
  },
  {
   "cell_type": "code",
   "execution_count": null,
   "metadata": {},
   "outputs": [],
   "source": []
  },
  {
   "cell_type": "code",
   "execution_count": null,
   "metadata": {},
   "outputs": [],
   "source": []
  },
  {
   "cell_type": "code",
   "execution_count": null,
   "metadata": {},
   "outputs": [],
   "source": []
  }
 ],
 "metadata": {
  "kernelspec": {
   "display_name": "Python 3 (ipykernel)",
   "language": "python",
   "name": "python3"
  },
  "language_info": {
   "codemirror_mode": {
    "name": "ipython",
    "version": 3
   },
   "file_extension": ".py",
   "mimetype": "text/x-python",
   "name": "python",
   "nbconvert_exporter": "python",
   "pygments_lexer": "ipython3",
   "version": "3.11.7"
  }
 },
 "nbformat": 4,
 "nbformat_minor": 4
}
