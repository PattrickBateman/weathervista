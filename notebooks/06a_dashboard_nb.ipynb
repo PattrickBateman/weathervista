{
 "cells": [
  {
   "cell_type": "raw",
   "metadata": {},
   "source": [
    "---\n",
    "title: \"WeatherVista Project - Session 6: Creating a GUI with Jupyter Widgets\"\n",
    "execute: \n",
    "  enabled: false\n",
    "---"
   ]
  },
  {
   "cell_type": "markdown",
   "metadata": {},
   "source": [
    "## Objectives\n",
    "- Learn how to create a graphical user interface (GUI) for the WeatherVista project.\n",
    "- Understand the basics of Jupyter Widgets building notebook applications.\n",
    "- Explore using Jupyter Widgets for interactive elements in Jupyter notebooks.\n",
    "  \n",
    "## Setting Up the Environment\n",
    "\n",
    "Begin by installing the ipywidgets library and enabling the widgets extension in Jupyter Notebooks to ensure a seamless interactive experience. This step sets the foundation for integrating dynamic controls into your notebooks."
   ]
  },
  {
   "cell_type": "code",
   "execution_count": 31,
   "metadata": {},
   "outputs": [],
   "source": [
    "import pandas as pd\n",
    "import matplotlib.pyplot as plt\n",
    "import matplotlib.patches as patches\n",
    "import ipywidgets as widgets\n",
    "from IPython.display import display\n",
    "import weather_plots as wp \n",
    "import matplotlib.patches as patches\n",
    "from fetch_data import fetch_weather_data\n",
    "from process_data import process_weather_data\n",
    "from utils import determine_weather"
   ]
  },
  {
   "cell_type": "markdown",
   "metadata": {},
   "source": [
    "## Fetching Weather Data\n",
    "Utilize APIs such as OpenWeatherMap to fetch current weather data. This step involves making HTTP requests and processing the received JSON data to extract relevant weather information."
   ]
  },
  {
   "cell_type": "code",
   "execution_count": 32,
   "metadata": {},
   "outputs": [],
   "source": [
    "api_key = '97490e98294c10e32022a2ef28d662fa'  # Replace with your OpenWeatherMap API key\n",
    "city = 'Guangzhou'  # Default city for demonstration\n",
    "current_data, forecast_data = fetch_weather_data(api_key, city)\n",
    "current_df, hourly_df, daily_df = process_weather_data(current_data, forecast_data)"
   ]
  },
  {
   "cell_type": "markdown",
   "metadata": {},
   "source": [
    "## Determining Weather Conditions\n",
    "Analyze the fetched data to determine specific weather conditions like temperature, humidity, and wind speed. This processing helps in displaying meaningful information and creating visualizations."
   ]
  },
  {
   "cell_type": "code",
   "execution_count": 33,
   "metadata": {},
   "outputs": [],
   "source": [
    "daily_df['Weather'] = daily_df.apply(determine_weather, axis=1, args=(25, 15, 80))"
   ]
  },
  {
   "cell_type": "markdown",
   "metadata": {},
   "source": [
    "### 5. Creating Dropdown Widget\n",
    "Create a dropdown widget using ipywidgets to allow users to select different cities or weather parameters. This widget will enable dynamic interaction and updates based on user input."
   ]
  },
  {
   "cell_type": "code",
   "execution_count": 34,
   "metadata": {},
   "outputs": [
    {
     "data": {
      "application/vnd.jupyter.widget-view+json": {
       "model_id": "65eaa132e1f144f990359dd258c62bf8",
       "version_major": 2,
       "version_minor": 0
      },
      "text/plain": [
       "Dropdown(description='City:', options=('Guangzhou', 'New York', 'London', 'Beijing'), value='Guangzhou')"
      ]
     },
     "metadata": {},
     "output_type": "display_data"
    }
   ],
   "source": [
    "city_dropdown = widgets.Dropdown(\n",
    "    options=['Guangzhou', 'New York', 'London', 'Beijing'],\n",
    "    value='Guangzhou',\n",
    "    description='City:'\n",
    ")\n",
    "display(city_dropdown)"
   ]
  },
  {
   "cell_type": "markdown",
   "metadata": {},
   "source": [
    "### 6. Creating Update Button\n",
    "Add an update button to trigger the fetching and processing of weather data based on the selected dropdown options. This button will help refresh the displayed information without re-running the entire notebook."
   ]
  },
  {
   "cell_type": "code",
   "execution_count": 35,
   "metadata": {},
   "outputs": [
    {
     "data": {
      "application/vnd.jupyter.widget-view+json": {
       "model_id": "b5b8fbcd533c4619a51f343153f4258b",
       "version_major": 2,
       "version_minor": 0
      },
      "text/plain": [
       "Button(button_style='success', description='Update Weather', style=ButtonStyle())"
      ]
     },
     "metadata": {},
     "output_type": "display_data"
    }
   ],
   "source": [
    "update_button = widgets.Button(\n",
    "    description='Update Weather',\n",
    "    button_style='success'\n",
    ")\n",
    "display(update_button)"
   ]
  },
  {
   "cell_type": "markdown",
   "metadata": {},
   "source": [
    "### 7. Output Area for Plots\n",
    "\n",
    "Designate an output area using ipywidgets where the weather plots will be displayed. This area will dynamically update as the user interacts with the dropdown and update button."
   ]
  },
  {
   "cell_type": "code",
   "execution_count": 36,
   "metadata": {},
   "outputs": [
    {
     "data": {
      "application/vnd.jupyter.widget-view+json": {
       "model_id": "1f951efe962542af8f20447c6b50651e",
       "version_major": 2,
       "version_minor": 0
      },
      "text/plain": [
       "Output()"
      ]
     },
     "metadata": {},
     "output_type": "display_data"
    }
   ],
   "source": [
    "output = widgets.Output()\n",
    "display(output)"
   ]
  },
  {
   "cell_type": "markdown",
   "metadata": {},
   "source": [
    "### 8. Updating Weather Data and Plots\n",
    "\n",
    "Implement functionality to update the weather data and corresponding plots when the user changes the dropdown selection or clicks the update button. This ensures the displayed data is always current and relevant."
   ]
  },
  {
   "cell_type": "code",
   "execution_count": 44,
   "metadata": {},
   "outputs": [],
   "source": [
    "\n",
    "def update_weather(b):\n",
    "    city = city_dropdown.value\n",
    "    current_data, forecast_data = fetch_weather_data(api_key, city)\n",
    "    current_df, hourly_df, daily_df = process_weather_data(current_data, forecast_data)\n",
    "    daily_df['Weather'] = daily_df.apply(determine_weather, axis=1, args=(25, 15, 80))\n",
    "    \n",
    "    with output:\n",
    "        output.clear_output()\n",
    "        fig, axs = plt.subplots(1, 3, figsize=(15, 4))\n",
    "        fig.tight_layout(pad=5.0)\n",
    "\n",
    "        # Generate plots\n",
    "        wp.create_forecast_card(axs[0], daily_df.iloc[0]['Date'], round(daily_df.iloc[0]['Max Temperature (C)'], 2), round(daily_df.iloc[0]['Min Temperature (C)'], 2), daily_df.iloc[0]['Weather'])\n",
    "        wp.plot_scatter(hourly_df, 'Temperature (C)', 'Wind Speed (m/s)', axs[1], title=\"Wind Speed vs Temperature\")\n",
    "        wp.plot_min_max(daily_df, 'Date', 'Min Temperature (C)', 'Max Temperature (C)', axs[2], title=\"Daily Min/Max Temperature\")\n",
    "\n",
    "        plt.show()"
   ]
  },
  {
   "cell_type": "markdown",
   "metadata": {},
   "source": [
    "## Add events and display initial dashboard\n",
    "\n",
    "Bind the created widgets to events and display the initial dashboard layout. This setup will prepare the interface for user interactions, showing the initial state of the weather data and plots."
   ]
  },
  {
   "cell_type": "code",
   "execution_count": 43,
   "metadata": {},
   "outputs": [
    {
     "data": {
      "application/vnd.jupyter.widget-view+json": {
       "model_id": "65eaa132e1f144f990359dd258c62bf8",
       "version_major": 2,
       "version_minor": 0
      },
      "text/plain": [
       "Dropdown(description='City:', options=('Guangzhou', 'New York', 'London', 'Beijing'), value='Guangzhou')"
      ]
     },
     "metadata": {},
     "output_type": "display_data"
    },
    {
     "data": {
      "application/vnd.jupyter.widget-view+json": {
       "model_id": "b5b8fbcd533c4619a51f343153f4258b",
       "version_major": 2,
       "version_minor": 0
      },
      "text/plain": [
       "Button(button_style='success', description='Update Weather', style=ButtonStyle())"
      ]
     },
     "metadata": {},
     "output_type": "display_data"
    },
    {
     "data": {
      "application/vnd.jupyter.widget-view+json": {
       "model_id": "1f951efe962542af8f20447c6b50651e",
       "version_major": 2,
       "version_minor": 0
      },
      "text/plain": [
       "Output(outputs=({'output_type': 'display_data', 'data': {'text/plain': '<Figure size 1500x400 with 3 Axes>', '…"
      ]
     },
     "metadata": {},
     "output_type": "display_data"
    }
   ],
   "source": [
    "update_button.on_click(update_weather)\n",
    "display(city_dropdown, update_button, output)\n",
    "update_weather(None)"
   ]
  },
  {
   "cell_type": "markdown",
   "metadata": {},
   "source": [
    "## Combining Everything\n",
    "\n",
    "Integrate all components into a cohesive interactive dashboard that updates weather data and visualizations in real-time based on user input. This final step brings together the dropdown, update button, and output area to create a functional and dynamic weather dashboard."
   ]
  },
  {
   "cell_type": "code",
   "execution_count": 12,
   "metadata": {},
   "outputs": [
    {
     "data": {
      "application/vnd.jupyter.widget-view+json": {
       "model_id": "58fa5a0e727346a288f16db434a22c63",
       "version_major": 2,
       "version_minor": 0
      },
      "text/plain": [
       "Dropdown(description='City:', options=('Sydney', 'New York', 'London', 'Beijing'), value='Sydney')"
      ]
     },
     "metadata": {},
     "output_type": "display_data"
    },
    {
     "data": {
      "application/vnd.jupyter.widget-view+json": {
       "model_id": "a2d1855d20f347969c992bd4b77d336f",
       "version_major": 2,
       "version_minor": 0
      },
      "text/plain": [
       "Button(button_style='success', description='Update Weather', style=ButtonStyle())"
      ]
     },
     "metadata": {},
     "output_type": "display_data"
    },
    {
     "data": {
      "application/vnd.jupyter.widget-view+json": {
       "model_id": "38fc424f20944b7a8ab0a2e73c567b73",
       "version_major": 2,
       "version_minor": 0
      },
      "text/plain": [
       "Output()"
      ]
     },
     "metadata": {},
     "output_type": "display_data"
    },
    {
     "name": "stdout",
     "output_type": "stream",
     "text": [
      "Failed to fetch data: 401\n",
      "Failed to fetch data: 401\n"
     ]
    },
    {
     "ename": "TypeError",
     "evalue": "'NoneType' object is not subscriptable",
     "output_type": "error",
     "traceback": [
      "\u001b[1;31m---------------------------------------------------------------------------\u001b[0m",
      "\u001b[1;31mTypeError\u001b[0m                                 Traceback (most recent call last)",
      "Cell \u001b[1;32mIn[12], line 55\u001b[0m\n\u001b[0;32m     53\u001b[0m update_button\u001b[38;5;241m.\u001b[39mon_click(update_weather)\n\u001b[0;32m     54\u001b[0m display(city_dropdown, update_button, output)\n\u001b[1;32m---> 55\u001b[0m update_weather(\u001b[38;5;28;01mNone\u001b[39;00m)\n",
      "Cell \u001b[1;32mIn[12], line 38\u001b[0m, in \u001b[0;36mupdate_weather\u001b[1;34m(b)\u001b[0m\n\u001b[0;32m     36\u001b[0m api_key \u001b[38;5;241m=\u001b[39m \u001b[38;5;124m'\u001b[39m\u001b[38;5;124md0de46031ad7410d0c72c6063690e1d0\u001b[39m\u001b[38;5;124m'\u001b[39m  \u001b[38;5;66;03m# Replace with your OpenWeatherMap API key\u001b[39;00m\n\u001b[0;32m     37\u001b[0m current_data, forecast_data \u001b[38;5;241m=\u001b[39m fetch_weather_data(api_key, city)\n\u001b[1;32m---> 38\u001b[0m current_df, hourly_df, daily_df \u001b[38;5;241m=\u001b[39m process_weather_data(current_data, forecast_data)\n\u001b[0;32m     39\u001b[0m daily_df[\u001b[38;5;124m'\u001b[39m\u001b[38;5;124mWeather\u001b[39m\u001b[38;5;124m'\u001b[39m] \u001b[38;5;241m=\u001b[39m daily_df\u001b[38;5;241m.\u001b[39mapply(determine_weather, axis\u001b[38;5;241m=\u001b[39m\u001b[38;5;241m1\u001b[39m, args\u001b[38;5;241m=\u001b[39m(\u001b[38;5;241m25\u001b[39m, \u001b[38;5;241m15\u001b[39m, \u001b[38;5;241m80\u001b[39m))\n\u001b[0;32m     41\u001b[0m \u001b[38;5;28;01mwith\u001b[39;00m output:\n",
      "File \u001b[1;32m~\\Documents\\ISYS2001\\weathervista\\notebooks\\process_data.py:45\u001b[0m, in \u001b[0;36mprocess_weather_data\u001b[1;34m(current_data, forecast_data)\u001b[0m\n\u001b[0;32m     43\u001b[0m \u001b[38;5;28;01mdef\u001b[39;00m \u001b[38;5;21mprocess_weather_data\u001b[39m(current_data, forecast_data):\n\u001b[0;32m     44\u001b[0m     current_weather \u001b[38;5;241m=\u001b[39m parse_weather(current_data)\n\u001b[1;32m---> 45\u001b[0m     forecast_weather \u001b[38;5;241m=\u001b[39m [parse_weather(entry) \u001b[38;5;28;01mfor\u001b[39;00m entry \u001b[38;5;129;01min\u001b[39;00m forecast_data[\u001b[38;5;124m'\u001b[39m\u001b[38;5;124mlist\u001b[39m\u001b[38;5;124m'\u001b[39m]]\n\u001b[0;32m     47\u001b[0m     save_to_csv([current_weather], \u001b[38;5;124m'\u001b[39m\u001b[38;5;124mcurrent_weather_data.csv\u001b[39m\u001b[38;5;124m'\u001b[39m)\n\u001b[0;32m     48\u001b[0m     save_to_csv(forecast_weather, \u001b[38;5;124m'\u001b[39m\u001b[38;5;124mhourly_weather_data.csv\u001b[39m\u001b[38;5;124m'\u001b[39m)\n",
      "\u001b[1;31mTypeError\u001b[0m: 'NoneType' object is not subscriptable"
     ]
    }
   ],
   "source": [
    "import pandas as pd\n",
    "import matplotlib.pyplot as plt\n",
    "import ipywidgets as widgets\n",
    "from IPython.display import display\n",
    "import weather_plots as wp  # Assuming this contains your plotting functions\n",
    "import matplotlib.patches as patches\n",
    "from fetch_data import fetch_weather_data\n",
    "from process_data import process_weather_data\n",
    "\n",
    "def determine_weather(row, sunny_threshold, rainy_min_temp_threshold, rainy_humidity_threshold):\n",
    "    if row['Max Temperature (C)'] > sunny_threshold:\n",
    "        return 'Sunny'\n",
    "    elif row['Min Temperature (C)'] < rainy_min_temp_threshold and row['Max Humidity (%)'] > rainy_humidity_threshold:\n",
    "        return 'Rainy'\n",
    "    else:\n",
    "        return 'Partly Cloudy'\n",
    "\n",
    "# Dropdown for city selection\n",
    "city_dropdown = widgets.Dropdown(\n",
    "    options=['Sydney', 'New York', 'London', 'Beijing'],\n",
    "    value='Sydney',\n",
    "    description='City:'\n",
    ")\n",
    "\n",
    "# Button to fetch and update weather data\n",
    "update_button = widgets.Button(\n",
    "    description='Update Weather',\n",
    "    button_style='success'\n",
    ")\n",
    "\n",
    "output = widgets.Output()\n",
    "\n",
    "# Function to update weather data and plots\n",
    "def update_weather(b):\n",
    "    city = city_dropdown.value\n",
    "    api_key = 'd0de46031ad7410d0c72c6063690e1d0'  # Replace with your OpenWeatherMap API key\n",
    "    current_data, forecast_data = fetch_weather_data(api_key, city)\n",
    "    current_df, hourly_df, daily_df = process_weather_data(current_data, forecast_data)\n",
    "    daily_df['Weather'] = daily_df.apply(determine_weather, axis=1, args=(25, 15, 80))\n",
    "\n",
    "    with output:\n",
    "        output.clear_output()\n",
    "        fig, axs = plt.subplots(1, 3, figsize=(15, 4))\n",
    "        fig.tight_layout(pad=5.0)\n",
    "\n",
    "        # Generate plots\n",
    "        wp.create_forecast_card(axs[0], daily_df.iloc[0]['Date'], daily_df.iloc[0]['Max Temperature (C)'], daily_df.iloc[0]['Min Temperature (C)'], daily_df.iloc[0]['Weather'])\n",
    "        wp.plot_scatter(hourly_df, 'Temperature (C)', 'Wind Speed (m/s)', axs[1], title=\"Wind Speed vs Temperature\")\n",
    "        wp.plot_min_max(daily_df, 'Date', 'Min Temperature (C)', 'Max Temperature (C)', axs[2], title=\"Daily Min/Max Temperature\")\n",
    "\n",
    "        plt.show()\n",
    "\n",
    "update_button.on_click(update_weather)\n",
    "display(city_dropdown, update_button, output)\n",
    "update_weather(None)"
   ]
  },
  {
   "cell_type": "code",
   "execution_count": null,
   "metadata": {},
   "outputs": [],
   "source": []
  }
 ],
 "metadata": {
  "kernelspec": {
   "display_name": "Python 3 (ipykernel)",
   "language": "python",
   "name": "python3"
  },
  "language_info": {
   "codemirror_mode": {
    "name": "ipython",
    "version": 3
   },
   "file_extension": ".py",
   "mimetype": "text/x-python",
   "name": "python",
   "nbconvert_exporter": "python",
   "pygments_lexer": "ipython3",
   "version": "3.11.7"
  }
 },
 "nbformat": 4,
 "nbformat_minor": 4
}
